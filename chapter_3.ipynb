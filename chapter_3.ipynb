{
  "nbformat": 4,
  "nbformat_minor": 0,
  "metadata": {
    "colab": {
      "name": "chapter_3.ipynb",
      "provenance": [],
      "authorship_tag": "ABX9TyMi1awEMDfNQOREAsRXw7hz"
    },
    "kernelspec": {
      "name": "python3",
      "display_name": "Python 3"
    }
  },
  "cells": [
    {
      "cell_type": "code",
      "metadata": {
        "id": "YqbXJ5Ju7__q",
        "colab_type": "code",
        "colab": {}
      },
      "source": [
        "%tensorflow_version 1.x\n",
        "# !sudo apt-get install texlive-latex-extra texlive-fonts-recommended dvipng"
      ],
      "execution_count": 0,
      "outputs": []
    },
    {
      "cell_type": "code",
      "metadata": {
        "id": "QlVbzeFv8KXV",
        "colab_type": "code",
        "colab": {}
      },
      "source": [
        "import numpy as np\n",
        "np.random.seed(456)\n",
        "import  tensorflow as tf\n",
        "tf.set_random_seed(456)\n",
        "from matplotlib import rc\n",
        "rc('text', usetex=True)\n",
        "import matplotlib.pyplot as plt\n",
        "from scipy.stats import pearsonr\n",
        "from sklearn.metrics import mean_squared_error"
      ],
      "execution_count": 0,
      "outputs": []
    },
    {
      "cell_type": "code",
      "metadata": {
        "id": "8NxoGsz88ePk",
        "colab_type": "code",
        "colab": {}
      },
      "source": [
        "def pearson_r2_score(y, y_pred):\n",
        "  \"\"\"Computes Pearson R^2 (square of Pearson correlation).\"\"\"\n",
        "  return pearsonr(y, y_pred)[0] ** 2\n",
        "\n",
        "def rms_score(y_true, y_pred):\n",
        "  \"\"\"Computes RMS error.\"\"\"\n",
        "  return np.sqrt(mean_squared_error(y_true, y_pred))"
      ],
      "execution_count": 0,
      "outputs": []
    },
    {
      "cell_type": "code",
      "metadata": {
        "id": "VwZHEUGq8EpF",
        "colab_type": "code",
        "colab": {}
      },
      "source": [
        "with tf.name_scope('placeholders'):\n",
        "  x = tf.placeholder(tf.float32, (N, 1))\n",
        "  y = tf.placeholder(tf.float32, (N,))"
      ],
      "execution_count": 0,
      "outputs": []
    },
    {
      "cell_type": "code",
      "metadata": {
        "id": "PItFK32k8Muf",
        "colab_type": "code",
        "colab": {}
      },
      "source": [
        "# Generate synthetic data\n",
        "N = 100\n",
        "w_true = 5\n",
        "b_true = 2\n",
        "noise_scale = .1\n",
        "x_np = np.random.rand(N, 1)\n",
        "noise = np.random.normal(scale=noise_scale, size=(N, 1))\n",
        "# Convert shape of y_np to (N,)\n",
        "y_np = np.reshape(w_true * x_np  + b_true + noise, (-1))"
      ],
      "execution_count": 0,
      "outputs": []
    },
    {
      "cell_type": "code",
      "metadata": {
        "id": "Pe2fBPl78Mwb",
        "colab_type": "code",
        "colab": {
          "base_uri": "https://localhost:8080/",
          "height": 309
        },
        "outputId": "ba5243aa-0b06-4902-82d2-acebca39b4c3"
      },
      "source": [
        "# Save image of the data distribution\n",
        "plt.scatter(x_np, y_np)\n",
        "plt.xlabel(\"x\")\n",
        "plt.ylabel(\"y\")\n",
        "plt.xlim(0, 1)\n",
        "plt.title(\"Toy Linear Regression Data, \"\n",
        "          r\"$y = 5x + 2 + N(0, 1)$\")\n",
        "# plt.savefig(\"lr_data.png\")"
      ],
      "execution_count": 12,
      "outputs": [
        {
          "output_type": "execute_result",
          "data": {
            "text/plain": [
              "Text(0.5, 1.0, 'Toy Linear Regression Data, $y = 5x + 2 + N(0, 1)$')"
            ]
          },
          "metadata": {
            "tags": []
          },
          "execution_count": 12
        },
        {
          "output_type": "display_data",
          "data": {
            "image/png": "[encoded data removed]",
            "text/plain": [
              "<Figure size 432x288 with 1 Axes>"
            ]
          },
          "metadata": {
            "tags": []
          }
        }
      ]
    },
    {
      "cell_type": "code",
      "metadata": {
        "id": "jM0mHdut8MzJ",
        "colab_type": "code",
        "colab": {}
      },
      "source": [
        "# Generate tensorflow graph\n",
        "with tf.name_scope(\"placeholders\"):\n",
        "  x = tf.placeholder(tf.float32, (N, 1))\n",
        "  y = tf.placeholder(tf.float32, (N,))\n",
        "with tf.name_scope(\"weights\"):\n",
        "  W = tf.Variable(tf.random_normal((1, 1)))\n",
        "  b = tf.Variable(tf.random_normal((1,)))\n",
        "with tf.name_scope(\"prediction\"):\n",
        "  y_pred = tf.matmul(x, W) + b\n",
        "with tf.name_scope(\"loss\"):\n",
        "  l = tf.reduce_sum((y - tf.squeeze(y_pred))**2)\n",
        "with tf.name_scope(\"optim\"):\n",
        "  train_op = tf.train.AdamOptimizer(.001).minimize(l)\n",
        "\n",
        "with tf.name_scope(\"summaries\"):\n",
        "  tf.summary.scalar(\"loss\", l)\n",
        "  merged = tf.summary.merge_all()\n",
        "\n",
        "train_writer = tf.summary.FileWriter('/tmp/lr-train', tf.get_default_graph())"
      ],
      "execution_count": 0,
      "outputs": []
    },
    {
      "cell_type": "code",
      "metadata": {
        "id": "O6yiHwj28M13",
        "colab_type": "code",
        "colab": {}
      },
      "source": [
        "n_steps = 8000\n",
        "with tf.Session() as sess:\n",
        "  sess.run(tf.global_variables_initializer())\n",
        "  # Train model\n",
        "  for i in range(n_steps):\n",
        "    feed_dict = {x: x_np, y: y_np}\n",
        "    _, summary, loss = sess.run([train_op, merged, l], feed_dict=feed_dict)\n",
        "    print(\"step %d, loss: %f\" % (i, loss))\n",
        "    train_writer.add_summary(summary, i)\n",
        "\n",
        "  # Get weights\n",
        "  w_final, b_final = sess.run([W, b])\n",
        "\n",
        "  # Make Predictions\n",
        "  y_pred_np = sess.run(y_pred, feed_dict={x: x_np})"
      ],
      "execution_count": 0,
      "outputs": []
    },
    {
      "cell_type": "code",
      "metadata": {
        "id": "E4jOQ3zP8M4s",
        "colab_type": "code",
        "colab": {
          "base_uri": "https://localhost:8080/",
          "height": 51
        },
        "outputId": "d67f0195-05c0-476e-a76a-d1e7bfe5cb4e"
      },
      "source": [
        "y_pred_np = np.reshape(y_pred_np, -1)\n",
        "r2 = pearson_r2_score(y_np, y_pred_np)\n",
        "print(\"Pearson R^2: %f\" % r2)\n",
        "rms = rms_score(y_np, y_pred_np)\n",
        "print(\"RMS: %f\" % rms)"
      ],
      "execution_count": 17,
      "outputs": [
        {
          "output_type": "stream",
          "text": [
            "Pearson R^2: 0.994371\n",
            "RMS: 0.224905\n"
          ],
          "name": "stdout"
        }
      ]
    },
    {
      "cell_type": "code",
      "metadata": {
        "id": "aJnIcP9Q8M7R",
        "colab_type": "code",
        "colab": {
          "base_uri": "https://localhost:8080/",
          "height": 310
        },
        "outputId": "4ae5b473-c0ea-436a-cc5d-16b941023461"
      },
      "source": [
        "# Clear figure\n",
        "plt.clf()\n",
        "plt.xlabel(\"Y-true\")\n",
        "plt.ylabel(\"Y-pred\")\n",
        "plt.title(\"Predicted versus True values \"\n",
        "          r\"(Pearson $R^2$: $0.994$)\")\n",
        "plt.scatter(y_np, y_pred_np)\n",
        "# plt.savefig(\"lr_pred.png\")"
      ],
      "execution_count": 19,
      "outputs": [
        {
          "output_type": "execute_result",
          "data": {
            "text/plain": [
              "<matplotlib.collections.PathCollection at 0x7f4fdfa10cc0>"
            ]
          },
          "metadata": {
            "tags": []
          },
          "execution_count": 19
        },
        {
          "output_type": "display_data",
          "data": {
            "image/png": "[encoded data removed]",
            "text/plain": [
              "<Figure size 432x288 with 1 Axes>"
            ]
          },
          "metadata": {
            "tags": []
          }
        }
      ]
    },
    {
      "cell_type": "code",
      "metadata": {
        "id": "HTJYzGm88M-H",
        "colab_type": "code",
        "colab": {
          "base_uri": "https://localhost:8080/",
          "height": 309
        },
        "outputId": "01e59b6a-9c6e-43cd-9e0b-df6a0052b7f6"
      },
      "source": [
        "# Now draw with learned regression line\n",
        "plt.clf()\n",
        "plt.xlabel(\"x\")\n",
        "plt.ylabel(\"y\")\n",
        "plt.title(\"True Model versus Learned Model \"\n",
        "          r\"(RMS: $1.027620$)\")\n",
        "plt.xlim(0, 1)\n",
        "plt.scatter(x_np, y_np)\n",
        "x_left = 0\n",
        "y_left = w_final[0]*x_left + b_final\n",
        "x_right = 1\n",
        "y_right = w_final[0]*x_right + b_final\n",
        "plt.plot([x_left, x_right], [y_left, y_right], color='k')\n",
        "# plt.savefig(\"lr_learned.png\")"
      ],
      "execution_count": 20,
      "outputs": [
        {
          "output_type": "execute_result",
          "data": {
            "text/plain": [
              "[<matplotlib.lines.Line2D at 0x7f4fdf967ef0>]"
            ]
          },
          "metadata": {
            "tags": []
          },
          "execution_count": 20
        },
        {
          "output_type": "display_data",
          "data": {
            "image/png": "[encoded data removed]",
            "text/plain": [
              "<Figure size 432x288 with 1 Axes>"
            ]
          },
          "metadata": {
            "tags": []
          }
        }
      ]
    },
    {
      "cell_type": "code",
      "metadata": {
        "id": "30a5yliT8NAu",
        "colab_type": "code",
        "colab": {}
      },
      "source": [
        ""
      ],
      "execution_count": 0,
      "outputs": []
    }
  ]
}